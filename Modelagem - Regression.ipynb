{
 "cells": [
  {
   "cell_type": "markdown",
   "metadata": {},
   "source": [
    "# Modelagem"
   ]
  },
  {
   "cell_type": "code",
   "execution_count": 1,
   "metadata": {},
   "outputs": [],
   "source": [
    "import pandas as pd\n",
    "import seaborn as sns\n",
    "import matplotlib.pyplot as plt\n",
    "import numpy as np\n",
    "\n",
    "# bibliotecas para modelagem de dados\n",
    "\n",
    "from sklearn.model_selection import train_test_split, KFold, cross_validate, cross_val_score, GridSearchCV\n",
    "from sklearn.pipeline import Pipeline\n",
    "from sklearn.preprocessing import OneHotEncoder, StandardScaler\n",
    "from sklearn.compose import ColumnTransformer\n",
    "from sklearn.linear_model import LinearRegression\n",
    "from sklearn.metrics import mean_squared_error, r2_score\n",
    "from sklearn.impute import SimpleImputer\n",
    "from sklearn.feature_selection import SelectKBest, f_regression\n",
    "from sklearn.ensemble import RandomForestRegressor \n",
    "\n",
    "import xgboost as xgb\n",
    "\n",
    "# graficos de residuos\n",
    "\n",
    "#from yellowbrick.regressor import ResidualsPlot\n",
    "#from yellowbrick.regressor import PredictionError"
   ]
  },
  {
   "cell_type": "markdown",
   "metadata": {},
   "source": [
    "####  Importação dos Dados"
   ]
  },
  {
   "cell_type": "code",
   "execution_count": 2,
   "metadata": {},
   "outputs": [],
   "source": [
    "dados = pd.read_csv(\"C:\\\\Users\\\\Caio\\\\Desktop\\\\Linear Regression - Project\\\\Dados\\\\Car details v3.csv\")"
   ]
  },
  {
   "cell_type": "code",
   "execution_count": 3,
   "metadata": {
    "scrolled": false
   },
   "outputs": [
    {
     "data": {
      "text/html": [
       "<div>\n",
       "<style scoped>\n",
       "    .dataframe tbody tr th:only-of-type {\n",
       "        vertical-align: middle;\n",
       "    }\n",
       "\n",
       "    .dataframe tbody tr th {\n",
       "        vertical-align: top;\n",
       "    }\n",
       "\n",
       "    .dataframe thead th {\n",
       "        text-align: right;\n",
       "    }\n",
       "</style>\n",
       "<table border=\"1\" class=\"dataframe\">\n",
       "  <thead>\n",
       "    <tr style=\"text-align: right;\">\n",
       "      <th></th>\n",
       "      <th>name</th>\n",
       "      <th>year</th>\n",
       "      <th>selling_price</th>\n",
       "      <th>km_driven</th>\n",
       "      <th>fuel</th>\n",
       "      <th>seller_type</th>\n",
       "      <th>transmission</th>\n",
       "      <th>owner</th>\n",
       "      <th>mileage</th>\n",
       "      <th>engine</th>\n",
       "      <th>max_power</th>\n",
       "      <th>torque</th>\n",
       "      <th>seats</th>\n",
       "    </tr>\n",
       "  </thead>\n",
       "  <tbody>\n",
       "    <tr>\n",
       "      <th>0</th>\n",
       "      <td>Maruti Swift Dzire VDI</td>\n",
       "      <td>2014</td>\n",
       "      <td>450000</td>\n",
       "      <td>145500</td>\n",
       "      <td>Diesel</td>\n",
       "      <td>Individual</td>\n",
       "      <td>Manual</td>\n",
       "      <td>First Owner</td>\n",
       "      <td>23.4 kmpl</td>\n",
       "      <td>1248 CC</td>\n",
       "      <td>74 bhp</td>\n",
       "      <td>190Nm@ 2000rpm</td>\n",
       "      <td>5.0</td>\n",
       "    </tr>\n",
       "    <tr>\n",
       "      <th>1</th>\n",
       "      <td>Skoda Rapid 1.5 TDI Ambition</td>\n",
       "      <td>2014</td>\n",
       "      <td>370000</td>\n",
       "      <td>120000</td>\n",
       "      <td>Diesel</td>\n",
       "      <td>Individual</td>\n",
       "      <td>Manual</td>\n",
       "      <td>Second Owner</td>\n",
       "      <td>21.14 kmpl</td>\n",
       "      <td>1498 CC</td>\n",
       "      <td>103.52 bhp</td>\n",
       "      <td>250Nm@ 1500-2500rpm</td>\n",
       "      <td>5.0</td>\n",
       "    </tr>\n",
       "    <tr>\n",
       "      <th>2</th>\n",
       "      <td>Honda City 2017-2020 EXi</td>\n",
       "      <td>2006</td>\n",
       "      <td>158000</td>\n",
       "      <td>140000</td>\n",
       "      <td>Petrol</td>\n",
       "      <td>Individual</td>\n",
       "      <td>Manual</td>\n",
       "      <td>Third Owner</td>\n",
       "      <td>17.7 kmpl</td>\n",
       "      <td>1497 CC</td>\n",
       "      <td>78 bhp</td>\n",
       "      <td>12.7@ 2,700(kgm@ rpm)</td>\n",
       "      <td>5.0</td>\n",
       "    </tr>\n",
       "  </tbody>\n",
       "</table>\n",
       "</div>"
      ],
      "text/plain": [
       "                           name  year  selling_price  km_driven    fuel  \\\n",
       "0        Maruti Swift Dzire VDI  2014         450000     145500  Diesel   \n",
       "1  Skoda Rapid 1.5 TDI Ambition  2014         370000     120000  Diesel   \n",
       "2      Honda City 2017-2020 EXi  2006         158000     140000  Petrol   \n",
       "\n",
       "  seller_type transmission         owner     mileage   engine   max_power  \\\n",
       "0  Individual       Manual   First Owner   23.4 kmpl  1248 CC      74 bhp   \n",
       "1  Individual       Manual  Second Owner  21.14 kmpl  1498 CC  103.52 bhp   \n",
       "2  Individual       Manual   Third Owner   17.7 kmpl  1497 CC      78 bhp   \n",
       "\n",
       "                  torque  seats  \n",
       "0         190Nm@ 2000rpm    5.0  \n",
       "1    250Nm@ 1500-2500rpm    5.0  \n",
       "2  12.7@ 2,700(kgm@ rpm)    5.0  "
      ]
     },
     "execution_count": 3,
     "metadata": {},
     "output_type": "execute_result"
    }
   ],
   "source": [
    "dados.head(3)"
   ]
  },
  {
   "cell_type": "markdown",
   "metadata": {},
   "source": [
    "####  Tem algumas variáveis numéricas (mileage, engine, max_power) que estão mescladas com letras. Vamos retirar essas letras das colunas numéricas"
   ]
  },
  {
   "cell_type": "code",
   "execution_count": 3,
   "metadata": {},
   "outputs": [
    {
     "name": "stderr",
     "output_type": "stream",
     "text": [
      "C:\\Users\\Caio\\AppData\\Local\\Temp\\ipykernel_9196\\1253344388.py:8: FutureWarning: The default value of regex will change from True to False in a future version.\n",
      "  dados['engine'] = dados['engine'].str.replace('\\D', '')\n",
      "C:\\Users\\Caio\\AppData\\Local\\Temp\\ipykernel_9196\\1253344388.py:10: FutureWarning: The default value of regex will change from True to False in a future version.\n",
      "  dados['max_power'] = dados['max_power'].str.replace('\\D', '')\n",
      "C:\\Users\\Caio\\AppData\\Local\\Temp\\ipykernel_9196\\1253344388.py:12: FutureWarning: The default value of regex will change from True to False in a future version.\n",
      "  dados['mileage'] = dados['mileage'].str.replace('\\D', '')\n"
     ]
    }
   ],
   "source": [
    "# criando uma coluna com a idade dos automóveis\n",
    "dados['age'] = 2021-dados['year'] \n",
    "\n",
    "\n",
    "# retirando todas as letras da coluna mileage, max_power eengine\n",
    "\n",
    "\n",
    "dados['engine'] = dados['engine'].str.replace('\\D', '')\n",
    "\n",
    "dados['max_power'] = dados['max_power'].str.replace('\\D', '')\n",
    "\n",
    "dados['mileage'] = dados['mileage'].str.replace('\\D', '')\n",
    "\n",
    "\n",
    "# convertendo para numérico\n",
    "\n",
    "\n",
    "dados['mileage'] = pd.to_numeric(dados['mileage'])\n",
    "\n",
    "dados['max_power'] = pd.to_numeric(dados['max_power'])\n",
    "\n",
    "dados['engine'] = pd.to_numeric(dados['engine'])\n",
    "\n",
    "\n",
    "# Eliminando colunas que não iremos utilizar\n",
    "\n",
    "dados.drop(['name', 'torque', 'year'], axis = 1, inplace=True)\n"
   ]
  },
  {
   "cell_type": "markdown",
   "metadata": {},
   "source": [
    "## Modelagem dos Dados"
   ]
  },
  {
   "cell_type": "code",
   "execution_count": 4,
   "metadata": {},
   "outputs": [],
   "source": [
    "# LOG TRANSFORMATION\n",
    "\n",
    "dados['selling_price'] = np.log(dados['selling_price'])\n",
    "dados['km_driven'] = np.log(dados['km_driven'])\n",
    "dados['engine'] = np.log(dados['engine'])\n"
   ]
  },
  {
   "cell_type": "code",
   "execution_count": 5,
   "metadata": {},
   "outputs": [],
   "source": [
    "features = dados.drop('selling_price', axis = 1)\n",
    "resposta = dados['selling_price']"
   ]
  },
  {
   "cell_type": "markdown",
   "metadata": {},
   "source": [
    "#### Train test split"
   ]
  },
  {
   "cell_type": "code",
   "execution_count": 6,
   "metadata": {},
   "outputs": [],
   "source": [
    "x_train, x_test, y_train, y_test = train_test_split(features, resposta, test_size = 0.2, random_state= 2)"
   ]
  },
  {
   "cell_type": "code",
   "execution_count": 7,
   "metadata": {},
   "outputs": [
    {
     "name": "stdout",
     "output_type": "stream",
     "text": [
      "7.129297548929373\n",
      "739.0\n",
      "5.0\n",
      "240.0\n"
     ]
    }
   ],
   "source": [
    "print(x_train['engine'].median())\n",
    "print(x_train['max_power'].median())\n",
    "print(x_train['seats'].median())\n",
    "print(x_train['mileage'].median())"
   ]
  },
  {
   "cell_type": "markdown",
   "metadata": {},
   "source": [
    "### Pipelines dos seguintes modelos: Linear Regression, Random Forest e XGBoost"
   ]
  },
  {
   "cell_type": "code",
   "execution_count": 8,
   "metadata": {},
   "outputs": [],
   "source": [
    "# Separando variáveis categóricas e numéricas\n",
    "\n",
    "col_categorico = [coluna for coluna in x_train.columns if x_train[coluna].dtype.name == 'object']\n",
    "col_numerico = [coluna for coluna in x_train.columns if x_train[coluna].dtype.name != 'object']"
   ]
  },
  {
   "cell_type": "code",
   "execution_count": 9,
   "metadata": {},
   "outputs": [],
   "source": [
    "# Pipeline Linear Regression\n",
    "\n",
    "numeric_transformer = Pipeline(\n",
    "    steps = [('scaler', StandardScaler()),\n",
    "             ('imputer', SimpleImputer(strategy='median'))]\n",
    ")\n",
    "\n",
    "categorical_transformer = OneHotEncoder(handle_unknown=\"ignore\")\n",
    "\n",
    "preprocessor = ColumnTransformer(\n",
    "    transformers=[\n",
    "        (\"num\", numeric_transformer, col_numerico),\n",
    "        (\"cat\", categorical_transformer, col_categorico),\n",
    "    ]\n",
    ")\n",
    "\n",
    "pipe = Pipeline(\n",
    "    steps=[(\"preprocessor\", preprocessor),(\"lin_reg\", LinearRegression())]\n",
    ")\n"
   ]
  },
  {
   "cell_type": "code",
   "execution_count": 10,
   "metadata": {},
   "outputs": [],
   "source": [
    "# Pipeline Random Forest Regression\n",
    "\n",
    "num_trans_rf = Pipeline(\n",
    "    steps = [('missing', SimpleImputer(strategy='median'))]\n",
    ")\n",
    "\n",
    "preprocessor_rf = ColumnTransformer(\n",
    "    transformers=[\n",
    "        ('numerico', num_trans_rf, col_numerico),\n",
    "        ('categorico', categorical_transformer, col_categorico)\n",
    "    ]\n",
    ")\n",
    "\n",
    "pipe_rf = Pipeline(\n",
    "    steps=[('preprocessor', preprocessor_rf), ('randomForestRegressor', RandomForestRegressor())]\n",
    ")\n"
   ]
  },
  {
   "cell_type": "code",
   "execution_count": 11,
   "metadata": {},
   "outputs": [],
   "source": [
    "# Pipeline XGBoost Regression\n",
    "\n",
    "\n",
    "\n",
    "numeric_transformer = Pipeline(\n",
    "    steps = [('scaler', StandardScaler()),\n",
    "             ('imputer', SimpleImputer(strategy='median'))]\n",
    ")\n",
    "\n",
    "categorical_transformer = OneHotEncoder(handle_unknown=\"ignore\")\n",
    "\n",
    "preprocessor = ColumnTransformer(\n",
    "    transformers=[\n",
    "        (\"num\", numeric_transformer, col_numerico),\n",
    "        (\"cat\", categorical_transformer, col_categorico),\n",
    "    ]\n",
    ")\n",
    "\n",
    "\n",
    "xgboost = xgb.XGBRegressor\n",
    "\n",
    "pipe_xgboost = Pipeline(\n",
    "    steps=[(\"preprocessor\", preprocessor),(\"xgboostR\", xgboost())]\n",
    ")\n"
   ]
  },
  {
   "cell_type": "markdown",
   "metadata": {},
   "source": [
    "### Tuning Hyperparameters (Linear Regression não possui hiperparametros para tunar)"
   ]
  },
  {
   "cell_type": "code",
   "execution_count": 12,
   "metadata": {},
   "outputs": [],
   "source": [
    "# Tuning Hyperparameters Random Forest Regressor\n",
    "\n",
    "\n",
    "params = {'randomForestRegressor__n_estimators': [10,20,30,40],\n",
    "          'randomForestRegressor__max_features': ['auto', 'sqrt'],\n",
    "          'randomForestRegressor__max_depth':[10,20,30,40],\n",
    "          'randomForestRegressor__min_samples_split':[4,6,10,13],\n",
    "          'randomForestRegressor__min_samples_leaf':[4,7,10,15]}\n",
    "\n",
    "\n",
    "pipe_rf_grid = GridSearchCV(estimator=pipe_rf,\n",
    "                            param_grid=params,\n",
    "                            scoring='r2',\n",
    "                            cv = 3,\n",
    "                            n_jobs=-1)"
   ]
  },
  {
   "cell_type": "code",
   "execution_count": 13,
   "metadata": {},
   "outputs": [],
   "source": [
    "# Tuning Hyperparameters XGBOOST\n",
    "\n",
    "params_xgboots  = {\n",
    "    \"xgboostR__learning_rate\":[0.05, 0.10, 0.15],\n",
    "    \"xgboostR__max_depth\": [3,5,6,8],\n",
    "    \"xgboostR__min_child_weight\":[1,3,5,7],\n",
    "    \"xgboostR__gamma\": [0.0,0.1,0.2]\n",
    "\n",
    "\n",
    "}\n",
    "\n",
    "pipe_xgboost = GridSearchCV(estimator=pipe_xgboost,\n",
    "                            param_grid= params_xgboots,\n",
    "                            scoring='r2',\n",
    "                            cv = 3,\n",
    "                            n_jobs=-1\n",
    ")\n",
    "\n"
   ]
  },
  {
   "cell_type": "markdown",
   "metadata": {},
   "source": [
    "#### Agora vamos treinar os 3 modelos"
   ]
  },
  {
   "cell_type": "code",
   "execution_count": 14,
   "metadata": {},
   "outputs": [],
   "source": [
    "modelos = [pipe, pipe_rf_grid, pipe_xgboost]"
   ]
  },
  {
   "cell_type": "code",
   "execution_count": 15,
   "metadata": {},
   "outputs": [
    {
     "name": "stderr",
     "output_type": "stream",
     "text": [
      "c:\\Users\\Caio\\anaconda3\\lib\\site-packages\\sklearn\\ensemble\\_forest.py:416: FutureWarning: `max_features='auto'` has been deprecated in 1.1 and will be removed in 1.3. To keep the past behaviour, explicitly set `max_features=1.0` or remove this parameter as it is also the default value for RandomForestRegressors and ExtraTreesRegressors.\n",
      "  warn(\n"
     ]
    }
   ],
   "source": [
    "for i in modelos:\n",
    "    i.fit(x_train, y_train)"
   ]
  },
  {
   "cell_type": "markdown",
   "metadata": {},
   "source": [
    "### Cross Validation with 5 cv Folds"
   ]
  },
  {
   "cell_type": "code",
   "execution_count": 16,
   "metadata": {},
   "outputs": [],
   "source": [
    "# Cross Validation Linear Regression\n",
    "\n",
    "scores_LR = cross_validate(pipe, x_train, y_train, scoring = ['r2','neg_root_mean_squared_error'], cv = 5)"
   ]
  },
  {
   "cell_type": "code",
   "execution_count": 17,
   "metadata": {},
   "outputs": [
    {
     "name": "stderr",
     "output_type": "stream",
     "text": [
      "c:\\Users\\Caio\\anaconda3\\lib\\site-packages\\sklearn\\ensemble\\_forest.py:416: FutureWarning: `max_features='auto'` has been deprecated in 1.1 and will be removed in 1.3. To keep the past behaviour, explicitly set `max_features=1.0` or remove this parameter as it is also the default value for RandomForestRegressors and ExtraTreesRegressors.\n",
      "  warn(\n",
      "c:\\Users\\Caio\\anaconda3\\lib\\site-packages\\sklearn\\ensemble\\_forest.py:416: FutureWarning: `max_features='auto'` has been deprecated in 1.1 and will be removed in 1.3. To keep the past behaviour, explicitly set `max_features=1.0` or remove this parameter as it is also the default value for RandomForestRegressors and ExtraTreesRegressors.\n",
      "  warn(\n",
      "c:\\Users\\Caio\\anaconda3\\lib\\site-packages\\sklearn\\ensemble\\_forest.py:416: FutureWarning: `max_features='auto'` has been deprecated in 1.1 and will be removed in 1.3. To keep the past behaviour, explicitly set `max_features=1.0` or remove this parameter as it is also the default value for RandomForestRegressors and ExtraTreesRegressors.\n",
      "  warn(\n",
      "c:\\Users\\Caio\\anaconda3\\lib\\site-packages\\sklearn\\ensemble\\_forest.py:416: FutureWarning: `max_features='auto'` has been deprecated in 1.1 and will be removed in 1.3. To keep the past behaviour, explicitly set `max_features=1.0` or remove this parameter as it is also the default value for RandomForestRegressors and ExtraTreesRegressors.\n",
      "  warn(\n",
      "c:\\Users\\Caio\\anaconda3\\lib\\site-packages\\sklearn\\ensemble\\_forest.py:416: FutureWarning: `max_features='auto'` has been deprecated in 1.1 and will be removed in 1.3. To keep the past behaviour, explicitly set `max_features=1.0` or remove this parameter as it is also the default value for RandomForestRegressors and ExtraTreesRegressors.\n",
      "  warn(\n"
     ]
    }
   ],
   "source": [
    "# Cross Validation Random Forest\n",
    "\n",
    "\n",
    "scores_RF = cross_validate(pipe_rf_grid, x_train, y_train, scoring = ['r2','neg_root_mean_squared_error'], cv = 5)"
   ]
  },
  {
   "cell_type": "code",
   "execution_count": 18,
   "metadata": {},
   "outputs": [],
   "source": [
    "# XGBOOST\n",
    "\n",
    "scores_XGBoost = cross_validate(pipe_xgboost, x_train, y_train, scoring = ['r2','neg_root_mean_squared_error'], cv = 5)"
   ]
  },
  {
   "cell_type": "markdown",
   "metadata": {},
   "source": [
    "#### Como foi o desempenho dos modelos no Cross Validation"
   ]
  },
  {
   "cell_type": "code",
   "execution_count": 19,
   "metadata": {},
   "outputs": [
    {
     "name": "stdout",
     "output_type": "stream",
     "text": [
      "METRICS CROSS VALIDATION LINEAR REGRESSION\n",
      "-----------------------------------------\n",
      "R2 Score\n",
      "Fold 1 - R2:    0.8154\n",
      "Fold 2 - R2:    0.8075\n",
      "Fold 3 - R2:    0.8347\n",
      "Fold 4 - R2:    0.8247\n",
      "Fold 5 - R2:    0.8179\n",
      "-----------------------------------------\n",
      "RMSE Score\n",
      "Fold 1 - RMSE: 0.3568028987114164\n",
      "Fold 2 - RMSE: 0.3732916364951511\n",
      "Fold 3 - RMSE: 0.3395061881085028\n",
      "Fold 4 - RMSE: 0.36072335850286164\n",
      "Fold 5 - RMSE: 0.36061427091658865\n",
      "------------------------------------------\n",
      "Média do R2 e RMSE do Cross Validation - 5 Fold\n",
      "Média R2:    0.8200401668162549\n",
      "Média RMSE: 0.35818767054690415\n"
     ]
    }
   ],
   "source": [
    "# Scores Cross Validation Linear Regression\n",
    "print('METRICS CROSS VALIDATION LINEAR REGRESSION')\n",
    "print('-----------------------------------------')\n",
    "\n",
    "\n",
    "print('R2 Score')\n",
    "contador = 0\n",
    "contador2 = 0\n",
    "for i in scores_LR['test_r2']:\n",
    "    contador = contador + 1\n",
    "    print(\"Fold {} - R2:    {:.4f}\" .format(contador, i))\n",
    "\n",
    "\n",
    "print('-----------------------------------------')\n",
    "\n",
    "print('RMSE Score')\n",
    "\n",
    "for j in scores_LR['test_neg_root_mean_squared_error']:\n",
    "    contador2 = contador2 + 1\n",
    "    print(\"Fold {} - RMSE: {}\" .format(contador2, -j))\n",
    "\n",
    "print('------------------------------------------')\n",
    "print('Média do R2 e RMSE do Cross Validation - 5 Fold')\n",
    "    \n",
    "    \n",
    "print(\"Média R2:    {}\".format(scores_LR['test_r2'].mean()))\n",
    "print(\"Média RMSE: {}\".format(-scores_LR['test_neg_root_mean_squared_error'].mean()))"
   ]
  },
  {
   "cell_type": "code",
   "execution_count": 20,
   "metadata": {},
   "outputs": [
    {
     "name": "stdout",
     "output_type": "stream",
     "text": [
      "METRICS CROSS VALIDATION RANDOM FOREST\n",
      "-----------------------------------------\n",
      "R2 Score\n",
      "Fold 1 - R2:    0.9150\n",
      "Fold 2 - R2:    0.9220\n",
      "Fold 3 - R2:    0.9319\n",
      "Fold 4 - R2:    0.9213\n",
      "Fold 5 - R2:    0.9141\n",
      "-----------------------------------------\n",
      "RMSE Score\n",
      "Fold 1 - RMSE: 0.2421737120546579\n",
      "Fold 2 - RMSE: 0.23761818308618518\n",
      "Fold 3 - RMSE: 0.2178741668380389\n",
      "Fold 4 - RMSE: 0.24169867493966374\n",
      "Fold 5 - RMSE: 0.24770861841895161\n",
      "------------------------------------------\n",
      "Média do R2 e RMSE do Cross Validation - 5 Fold\n",
      "Média R2:    0.9208517238267477\n",
      "Média RMSE: 0.23741467106749944\n"
     ]
    }
   ],
   "source": [
    "# Scores Cross Validation RANDOM FOREST\n",
    "print('METRICS CROSS VALIDATION RANDOM FOREST')\n",
    "print('-----------------------------------------')\n",
    "\n",
    "\n",
    "print('R2 Score')\n",
    "contador = 0\n",
    "contador2 = 0\n",
    "for i in scores_RF['test_r2']:\n",
    "    contador = contador + 1\n",
    "    print(\"Fold {} - R2:    {:.4f}\" .format(contador, i))\n",
    "\n",
    "\n",
    "print('-----------------------------------------')\n",
    "\n",
    "print('RMSE Score')\n",
    "\n",
    "for j in scores_RF['test_neg_root_mean_squared_error']:\n",
    "    contador2 = contador2 + 1\n",
    "    print(\"Fold {} - RMSE: {}\" .format(contador2, -j))\n",
    "\n",
    "print('------------------------------------------')\n",
    "print('Média do R2 e RMSE do Cross Validation - 5 Fold')\n",
    "    \n",
    "    \n",
    "print(\"Média R2:    {}\".format(scores_RF['test_r2'].mean()))\n",
    "print(\"Média RMSE: {}\".format(-scores_RF['test_neg_root_mean_squared_error'].mean()))"
   ]
  },
  {
   "cell_type": "code",
   "execution_count": 21,
   "metadata": {},
   "outputs": [
    {
     "name": "stdout",
     "output_type": "stream",
     "text": [
      "METRICS CROSS VALIDATION RANDOM FOREST\n",
      "-----------------------------------------\n",
      "R2 Score\n",
      "Fold 1 - R2:    0.9278\n",
      "Fold 2 - R2:    0.9296\n",
      "Fold 3 - R2:    0.9406\n",
      "Fold 4 - R2:    0.9347\n",
      "Fold 5 - R2:    0.9299\n",
      "-----------------------------------------\n",
      "RMSE Score\n",
      "Fold 1 - RMSE: 0.2231662689230814\n",
      "Fold 2 - RMSE: 0.22578517313213062\n",
      "Fold 3 - RMSE: 0.20344632222948253\n",
      "Fold 4 - RMSE: 0.22018463053460627\n",
      "Fold 5 - RMSE: 0.22376590877717475\n",
      "------------------------------------------\n",
      "Média do R2 e RMSE do Cross Validation - 5 Fold\n",
      "Média R2:    0.9325144898661126\n",
      "Média RMSE: 0.21926966071929513\n"
     ]
    }
   ],
   "source": [
    "# Scores Cross Validation XGBOOST\n",
    "print('METRICS CROSS VALIDATION RANDOM FOREST')\n",
    "print('-----------------------------------------')\n",
    "\n",
    "\n",
    "print('R2 Score')\n",
    "contador = 0\n",
    "contador2 = 0\n",
    "for i in scores_XGBoost['test_r2']:\n",
    "    contador = contador + 1\n",
    "    print(\"Fold {} - R2:    {:.4f}\" .format(contador, i))\n",
    "\n",
    "\n",
    "print('-----------------------------------------')\n",
    "\n",
    "print('RMSE Score')\n",
    "\n",
    "for j in scores_XGBoost['test_neg_root_mean_squared_error']:\n",
    "    contador2 = contador2 + 1\n",
    "    print(\"Fold {} - RMSE: {}\" .format(contador2, -j))\n",
    "\n",
    "print('------------------------------------------')\n",
    "print('Média do R2 e RMSE do Cross Validation - 5 Fold')\n",
    "    \n",
    "    \n",
    "print(\"Média R2:    {}\".format(scores_XGBoost['test_r2'].mean()))\n",
    "print(\"Média RMSE: {}\".format(-scores_XGBoost['test_neg_root_mean_squared_error'].mean()))"
   ]
  },
  {
   "cell_type": "code",
   "execution_count": 22,
   "metadata": {},
   "outputs": [],
   "source": [
    "xgboost_media_r2 =scores_XGBoost['test_r2'].mean()\n",
    "xgboost_media_rmse = scores_XGBoost['test_neg_root_mean_squared_error'].mean()\n",
    "\n",
    "lista = ['Linear_Regression', 'RF', 'XGboost']\n",
    "metricas = ['R2', 'RMSE']\n"
   ]
  },
  {
   "cell_type": "markdown",
   "metadata": {},
   "source": [
    "#### Vamos comparar as métricas dos modelos"
   ]
  },
  {
   "cell_type": "code",
   "execution_count": 23,
   "metadata": {},
   "outputs": [
    {
     "name": "stdout",
     "output_type": "stream",
     "text": [
      "Comparativo entre as métricas Cross Validation dos Modelos\n",
      "-----------------------------------------------------------\n",
      "Linear Regression:\n",
      "R2 mean: 0.8200401668162549\n",
      "RMSE mean: 0.35818767054690415\n",
      "-----------------------------------------------------------\n",
      "Random Forest Regression:\n",
      "R2 mean: 0.9208517238267477\n",
      "RMSE mean: 0.23741467106749944\n",
      "-----------------------------------------------------------\n",
      "XGBOOST Regression:\n",
      "R2 mean: 0.9325144898661126\n",
      "RMSE mean: 0.21926966071929513\n"
     ]
    }
   ],
   "source": [
    "print('Comparativo entre as métricas Cross Validation dos Modelos')\n",
    "print('-----------------------------------------------------------')\n",
    "\n",
    "print(\"Linear Regression:\")\n",
    "print(\"R2 mean: {}\".format(scores_LR['test_r2'].mean()))\n",
    "print(\"RMSE mean: {}\".format(-scores_LR['test_neg_root_mean_squared_error'].mean()))\n",
    "print('-----------------------------------------------------------')\n",
    "\n",
    "print(\"Random Forest Regression:\")\n",
    "print(\"R2 mean: {}\".format(scores_RF['test_r2'].mean()))\n",
    "print(\"RMSE mean: {}\".format(-scores_RF['test_neg_root_mean_squared_error'].mean()))\n",
    "\n",
    "print('-----------------------------------------------------------')\n",
    "\n",
    "print(\"XGBOOST Regression:\")\n",
    "print(\"R2 mean: {}\".format(scores_XGBoost['test_r2'].mean()))\n",
    "print(\"RMSE mean: {}\".format(-scores_XGBoost['test_neg_root_mean_squared_error'].mean()))\n",
    "\n"
   ]
  },
  {
   "cell_type": "markdown",
   "metadata": {},
   "source": [
    "#### Iremos selecionar o modelo do XGBoost\n",
    "\n",
    "\n",
    "#### Vamos a base de teste"
   ]
  },
  {
   "cell_type": "code",
   "execution_count": 24,
   "metadata": {},
   "outputs": [],
   "source": [
    "final_predictions = pipe_xgboost.predict(x_test)"
   ]
  },
  {
   "cell_type": "code",
   "execution_count": 25,
   "metadata": {},
   "outputs": [],
   "source": [
    "mse_test = mean_squared_error(y_test, final_predictions)\n",
    "r_quadrado_test = r2_score(y_test, final_predictions)"
   ]
  },
  {
   "cell_type": "code",
   "execution_count": 26,
   "metadata": {},
   "outputs": [
    {
     "name": "stdout",
     "output_type": "stream",
     "text": [
      "Mean Squared Error Test: 0.2136232460729033 \n",
      "R2 Test: 0.9314417674366186\n"
     ]
    }
   ],
   "source": [
    "print(\"Mean Squared Error Test: {} \".format(np.sqrt(mse_test)))\n",
    "print(\"R2 Test: {}\".format(r_quadrado_test))"
   ]
  }
 ],
 "metadata": {
  "kernelspec": {
   "display_name": "Python 3.9.12 ('base')",
   "language": "python",
   "name": "python3"
  },
  "language_info": {
   "codemirror_mode": {
    "name": "ipython",
    "version": 3
   },
   "file_extension": ".py",
   "mimetype": "text/x-python",
   "name": "python",
   "nbconvert_exporter": "python",
   "pygments_lexer": "ipython3",
   "version": "3.9.12"
  },
  "vscode": {
   "interpreter": {
    "hash": "c6810cc1eb25e1dcdb748a25f7f810d54a690ba3809781e8f421fe670da1f0f1"
   }
  }
 },
 "nbformat": 4,
 "nbformat_minor": 4
}
